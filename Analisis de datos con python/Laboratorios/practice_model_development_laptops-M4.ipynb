{
 "cells": [
  {
   "cell_type": "markdown",
   "id": "d519c38a-9567-40e6-b62a-447d429d7716",
   "metadata": {},
   "source": [
    "<p style=\"text-align:center\">\n",
    "    <a href=\"https://skills.network\" target=\"_blank\">\n",
    "    <img src=\"https://cf-courses-data.s3.us.cloud-object-storage.appdomain.cloud/assets/logos/SN_web_lightmode.png\" width=\"300\" alt=\"Skills Network Logo\">\n",
    "    </a>\n",
    "</p>\n"
   ]
  },
  {
   "cell_type": "markdown",
   "id": "477ec1a6-1db9-4a40-bf08-5539c20dec1f",
   "metadata": {},
   "source": [
    "# ** Laboratorio práctico de práctica: Desarrollo de modelos **\n",
    "\n",
    "Se necesita tiempo estimado: ** 45 ** minutos\n",
    "\n",
    "En este laboratorio, utilizará las habilidades adquiridas en todo el módulo y utilizará principios de regresión lineal para crear un modelo que predice el precio de la computadora portátil, en función de uno o más atributos del conjunto de datos."
   ]
  },
  {
   "cell_type": "markdown",
   "id": "a44fce73-d628-48fd-8c99-91b8048359db",
   "metadata": {},
   "source": [
    "# Objetivos\n",
    "\n",
    "Después de completar este laboratorio, podrá:\n",
    "\n",
    "- Use la regresión lineal en una variable para adaptarse a los parámetros a un modelo\n",
    "- Use la regresión lineal en múltiples variables para adaptarse a los parámetros a un modelo\n",
    "- Use la regresión polinomial en una sola variable TOFIT los parámetros a un modelo\n",
    "- Cree una tubería para realizar una regresión lineal utilizando múltiples características en escala polinomial\n",
    "- Evaluar el rendimiento de diferentes formas de regresión en función de los parámetros MSE y R^2"
   ]
  },
  {
   "cell_type": "markdown",
   "id": "66e7ef4f-b847-4ccf-9065-a93cdd1dc309",
   "metadata": {},
   "source": [
    "# Setup\n"
   ]
  },
  {
   "cell_type": "markdown",
   "id": "3cb7071f-0342-4980-a73b-ff6d93cb69f8",
   "metadata": {},
   "source": [
    "For this lab, we will be using the following libraries:\n",
    "\n",
    "*   [`pandas`](https://pandas.pydata.org/?utm_medium=Exinfluencer&utm_source=Exinfluencer&utm_content=000026UJ&utm_term=10006555&utm_id=NA-SkillsNetwork-Channel-SkillsNetworkCoursesIBMML0187ENSkillsNetwork31430127-2021-01-01) for managing the data.\n",
    "*   [`numpy`](https://numpy.org/?utm_medium=Exinfluencer&utm_source=Exinfluencer&utm_content=000026UJ&utm_term=10006555&utm_id=NA-SkillsNetwork-Channel-SkillsNetworkCoursesIBMML0187ENSkillsNetwork31430127-2021-01-01) for mathematical operations.\n",
    "*   [`sklearn`](https://scikit-learn.org/stable/?utm_medium=Exinfluencer&utm_source=Exinfluencer&utm_content=000026UJ&utm_term=10006555&utm_id=NA-SkillsNetwork-Channel-SkillsNetworkCoursesIBMML0187ENSkillsNetwork31430127-2021-01-01) for machine learning and machine-learning-pipeline related functions.\n",
    "*   [`seaborn`](https://seaborn.pydata.org/?utm_medium=Exinfluencer&utm_source=Exinfluencer&utm_content=000026UJ&utm_term=10006555&utm_id=NA-SkillsNetwork-Channel-SkillsNetworkCoursesIBMML0187ENSkillsNetwork31430127-2021-01-01) for visualizing the data.\n",
    "*   [`matplotlib`](https://matplotlib.org/?utm_medium=Exinfluencer&utm_source=Exinfluencer&utm_content=000026UJ&utm_term=10006555&utm_id=NA-SkillsNetwork-Channel-SkillsNetworkCoursesIBMML0187ENSkillsNetwork31430127-2021-01-01) for additional plotting tools.\n"
   ]
  },
  {
   "cell_type": "markdown",
   "id": "e0e1ba9e-9cb1-44b3-bad5-adae9db55110",
   "metadata": {},
   "source": [
    "The following required libraries are __not__ pre-installed in the Skills Network Labs environment. __You will need to run the following cell__ to install them:\n"
   ]
  },
  {
   "cell_type": "code",
   "execution_count": null,
   "id": "2b1e6a18-8c35-4b4f-a829-dedc432bc17e",
   "metadata": {},
   "outputs": [],
   "source": [
    "import piplite\n",
    "await piplite.install('seaborn')"
   ]
  },
  {
   "cell_type": "markdown",
   "id": "f586ff31-63a5-4303-ae9e-787110ffb8d6",
   "metadata": {},
   "source": [
    "### Importing Required Libraries\n",
    "\n",
    "_We recommend you import all required libraries in one place (here):_\n"
   ]
  },
  {
   "cell_type": "code",
   "execution_count": 1,
   "id": "a0f7d7c0-5648-48d2-ac20-385494d2f368",
   "metadata": {},
   "outputs": [],
   "source": [
    "import pandas as pd\n",
    "import numpy as np\n",
    "import matplotlib.pyplot as plt\n",
    "import seaborn as sns\n",
    "from sklearn.linear_model import LinearRegression\n",
    "from sklearn.preprocessing import StandardScaler, PolynomialFeatures\n",
    "from sklearn.pipeline import Pipeline\n",
    "from sklearn.metrics import mean_squared_error, r2_score\n",
    "import warnings\n",
    "warnings.filterwarnings(\"ignore\", category=UserWarning) \n"
   ]
  },
  {
   "cell_type": "markdown",
   "id": "da3817b2-f7ab-4e07-a12b-83a03ec57fba",
   "metadata": {},
   "source": [
    "### Importing the dataset\n",
    "Run the cell below to download the dataset into this environment.\n",
    "\n",
    "This function will download the dataset into your browser\n"
   ]
  },
  {
   "cell_type": "code",
   "execution_count": null,
   "id": "de221b78-18fb-4738-8a56-3e1ee72cbe2e",
   "metadata": {},
   "outputs": [],
   "source": [
    "#This function will download the dataset into your browser \n",
    "\n",
    "from pyodide.http import pyfetch\n",
    "\n",
    "async def download(url, filename):\n",
    "    response = await pyfetch(url)\n",
    "    if response.status == 200:\n",
    "        with open(filename, \"wb\") as f:\n",
    "            f.write(await response.bytes())"
   ]
  },
  {
   "cell_type": "markdown",
   "id": "8e6120f9-d858-4f0c-99e0-a1dc73182b3c",
   "metadata": {},
   "source": [
    "We put the file path along with a quotation mark so that pandas will read the file into a dataframe from that address. The file path can be either an URL or your local file address.\n"
   ]
  },
  {
   "cell_type": "code",
   "execution_count": null,
   "id": "26ae638a-4368-4954-87ea-1ea66e41fa41",
   "metadata": {},
   "outputs": [],
   "source": [
    "path = \"https://cf-courses-data.s3.us.cloud-object-storage.appdomain.cloud/IBMDeveloperSkillsNetwork-DA0101EN-Coursera/laptop_pricing_dataset_mod2.csv\""
   ]
  },
  {
   "cell_type": "markdown",
   "id": "bc2b80e8-53d8-43df-9834-c49f6abc694f",
   "metadata": {},
   "source": [
    "You will need to download the dataset using the download() function:\n"
   ]
  },
  {
   "cell_type": "code",
   "execution_count": null,
   "id": "1e97e7f1-b248-4965-a988-b64073011518",
   "metadata": {},
   "outputs": [],
   "source": [
    "#you will need to download the dataset;\n",
    "await download(path, \"laptops.csv\")\n",
    "file_name=\"laptops.csv\""
   ]
  },
  {
   "cell_type": "markdown",
   "id": "319ed960-a5dd-414e-a500-7025a8414822",
   "metadata": {},
   "source": [
    "Load the dataset into a pandas dataframe\n"
   ]
  },
  {
   "cell_type": "code",
   "execution_count": 3,
   "id": "5c79cac4-cf49-47e9-b636-0ea3519c1a99",
   "metadata": {},
   "outputs": [],
   "source": [
    "df = pd.read_csv(path, header=0)"
   ]
  },
  {
   "cell_type": "code",
   "execution_count": 6,
   "metadata": {},
   "outputs": [],
   "source": [
    "from dataclasses import dataclass\n",
    "\n",
    "@dataclass\n",
    "class A:\n",
    "    unnamed_0_1: str = \"Unnamed: 0.1\"\n",
    "    unnamed_0: str = \"Unnamed: 0\"\n",
    "    manufacturer: str = \"Manufacturer\"\n",
    "    category: str = \"Category\"\n",
    "    gpu: str = \"GPU\"\n",
    "    os: str = \"OS\"\n",
    "    cpu_core: str = \"CPU_core\"\n",
    "    screen_size_inch: str = \"Screen_Size_inch\"\n",
    "    cpu_frequency: str = \"CPU_frequency\"\n",
    "    ram_gb: str = \"RAM_GB\"\n",
    "    storage_gb_ssd: str = \"Storage_GB_SSD\"\n",
    "    weight_pounds: str = \"Weight_pounds\"\n",
    "    price: str = \"Price\"\n",
    "    price_binned: str = \"Price-binned\"\n",
    "    screen_full_hd: str = \"Screen-Full_HD\"\n",
    "    screen_ips_panel: str = \"Screen-IPS_panel\"\n"
   ]
  },
  {
   "cell_type": "markdown",
   "id": "859429c7-85b2-4d2a-b51f-75fc97c8e255",
   "metadata": {},
   "source": [
    ">Note: This version of the lab is working on JupyterLite, which requires the dataset to be downloaded to the interface.While working on the downloaded version of this notebook on their local machines(Jupyter Anaconda), the learners can simply skip the steps above, and simply use the URL directly in the pandas.read_csv() function. You can uncomment and run the statements in the cell below.\n"
   ]
  },
  {
   "cell_type": "code",
   "execution_count": null,
   "id": "77097962-2917-4702-bdac-495e3fbaa16d",
   "metadata": {},
   "outputs": [],
   "source": [
    "#https://cf-courses-data.s3.us.cloud-object-storage.appdomain.cloud/IBMDeveloperSkillsNetwork-DA0101EN-Coursera/laptop_pricing_dataset_mod2.csv\"\n",
    "#df = pd.read_csv(filepath, header=None)"
   ]
  },
  {
   "cell_type": "code",
   "execution_count": 4,
   "id": "3d2824b9-c22e-47ca-bf5e-3cd50110178f",
   "metadata": {},
   "outputs": [
    {
     "name": "stdout",
     "output_type": "stream",
     "text": [
      "The first 5 rows of the dataframe\n"
     ]
    },
    {
     "data": {
      "text/html": [
       "<div>\n",
       "<style scoped>\n",
       "    .dataframe tbody tr th:only-of-type {\n",
       "        vertical-align: middle;\n",
       "    }\n",
       "\n",
       "    .dataframe tbody tr th {\n",
       "        vertical-align: top;\n",
       "    }\n",
       "\n",
       "    .dataframe thead th {\n",
       "        text-align: right;\n",
       "    }\n",
       "</style>\n",
       "<table border=\"1\" class=\"dataframe\">\n",
       "  <thead>\n",
       "    <tr style=\"text-align: right;\">\n",
       "      <th></th>\n",
       "      <th>Unnamed: 0.1</th>\n",
       "      <th>Unnamed: 0</th>\n",
       "      <th>Manufacturer</th>\n",
       "      <th>Category</th>\n",
       "      <th>GPU</th>\n",
       "      <th>OS</th>\n",
       "      <th>CPU_core</th>\n",
       "      <th>Screen_Size_inch</th>\n",
       "      <th>CPU_frequency</th>\n",
       "      <th>RAM_GB</th>\n",
       "      <th>Storage_GB_SSD</th>\n",
       "      <th>Weight_pounds</th>\n",
       "      <th>Price</th>\n",
       "      <th>Price-binned</th>\n",
       "      <th>Screen-Full_HD</th>\n",
       "      <th>Screen-IPS_panel</th>\n",
       "    </tr>\n",
       "  </thead>\n",
       "  <tbody>\n",
       "    <tr>\n",
       "      <th>0</th>\n",
       "      <td>0</td>\n",
       "      <td>0</td>\n",
       "      <td>Acer</td>\n",
       "      <td>4</td>\n",
       "      <td>2</td>\n",
       "      <td>1</td>\n",
       "      <td>5</td>\n",
       "      <td>14.0</td>\n",
       "      <td>0.551724</td>\n",
       "      <td>8</td>\n",
       "      <td>256</td>\n",
       "      <td>3.52800</td>\n",
       "      <td>978</td>\n",
       "      <td>Low</td>\n",
       "      <td>0</td>\n",
       "      <td>1</td>\n",
       "    </tr>\n",
       "    <tr>\n",
       "      <th>1</th>\n",
       "      <td>1</td>\n",
       "      <td>1</td>\n",
       "      <td>Dell</td>\n",
       "      <td>3</td>\n",
       "      <td>1</td>\n",
       "      <td>1</td>\n",
       "      <td>3</td>\n",
       "      <td>15.6</td>\n",
       "      <td>0.689655</td>\n",
       "      <td>4</td>\n",
       "      <td>256</td>\n",
       "      <td>4.85100</td>\n",
       "      <td>634</td>\n",
       "      <td>Low</td>\n",
       "      <td>1</td>\n",
       "      <td>0</td>\n",
       "    </tr>\n",
       "    <tr>\n",
       "      <th>2</th>\n",
       "      <td>2</td>\n",
       "      <td>2</td>\n",
       "      <td>Dell</td>\n",
       "      <td>3</td>\n",
       "      <td>1</td>\n",
       "      <td>1</td>\n",
       "      <td>7</td>\n",
       "      <td>15.6</td>\n",
       "      <td>0.931034</td>\n",
       "      <td>8</td>\n",
       "      <td>256</td>\n",
       "      <td>4.85100</td>\n",
       "      <td>946</td>\n",
       "      <td>Low</td>\n",
       "      <td>1</td>\n",
       "      <td>0</td>\n",
       "    </tr>\n",
       "    <tr>\n",
       "      <th>3</th>\n",
       "      <td>3</td>\n",
       "      <td>3</td>\n",
       "      <td>Dell</td>\n",
       "      <td>4</td>\n",
       "      <td>2</td>\n",
       "      <td>1</td>\n",
       "      <td>5</td>\n",
       "      <td>13.3</td>\n",
       "      <td>0.551724</td>\n",
       "      <td>8</td>\n",
       "      <td>128</td>\n",
       "      <td>2.69010</td>\n",
       "      <td>1244</td>\n",
       "      <td>Low</td>\n",
       "      <td>0</td>\n",
       "      <td>1</td>\n",
       "    </tr>\n",
       "    <tr>\n",
       "      <th>4</th>\n",
       "      <td>4</td>\n",
       "      <td>4</td>\n",
       "      <td>HP</td>\n",
       "      <td>4</td>\n",
       "      <td>2</td>\n",
       "      <td>1</td>\n",
       "      <td>7</td>\n",
       "      <td>15.6</td>\n",
       "      <td>0.620690</td>\n",
       "      <td>8</td>\n",
       "      <td>256</td>\n",
       "      <td>4.21155</td>\n",
       "      <td>837</td>\n",
       "      <td>Low</td>\n",
       "      <td>1</td>\n",
       "      <td>0</td>\n",
       "    </tr>\n",
       "  </tbody>\n",
       "</table>\n",
       "</div>"
      ],
      "text/plain": [
       "   Unnamed: 0.1  Unnamed: 0 Manufacturer  Category  GPU  OS  CPU_core  \\\n",
       "0             0           0         Acer         4    2   1         5   \n",
       "1             1           1         Dell         3    1   1         3   \n",
       "2             2           2         Dell         3    1   1         7   \n",
       "3             3           3         Dell         4    2   1         5   \n",
       "4             4           4           HP         4    2   1         7   \n",
       "\n",
       "   Screen_Size_inch  CPU_frequency  RAM_GB  Storage_GB_SSD  Weight_pounds  \\\n",
       "0              14.0       0.551724       8             256        3.52800   \n",
       "1              15.6       0.689655       4             256        4.85100   \n",
       "2              15.6       0.931034       8             256        4.85100   \n",
       "3              13.3       0.551724       8             128        2.69010   \n",
       "4              15.6       0.620690       8             256        4.21155   \n",
       "\n",
       "   Price Price-binned  Screen-Full_HD  Screen-IPS_panel  \n",
       "0    978          Low               0                 1  \n",
       "1    634          Low               1                 0  \n",
       "2    946          Low               1                 0  \n",
       "3   1244          Low               0                 1  \n",
       "4    837          Low               1                 0  "
      ]
     },
     "execution_count": 4,
     "metadata": {},
     "output_type": "execute_result"
    }
   ],
   "source": [
    "# show the first 5 rows using dataframe.head() method\n",
    "print(\"The first 5 rows of the dataframe\") \n",
    "df.head(5)"
   ]
  },
  {
   "cell_type": "markdown",
   "id": "496bec4a-be09-484b-801d-ac3c92265b7c",
   "metadata": {},
   "source": [
    "# Task 1 : Single Linear Regression\n",
    "\n",
    "Has aprendido que \"CPU_Frequency\" es el parámetro con el valor p más bajo entre las diferentes características del conjunto de datos.Cree un modelo de regresión lineal única que se ajuste al par de \"CPU_Frequency\" y \"Price\" para encontrar el modelo para la predicción.\n"
   ]
  },
  {
   "cell_type": "code",
   "execution_count": 7,
   "id": "35931d7a-c5d2-4fed-87c9-bde5f5a4fc18",
   "metadata": {},
   "outputs": [],
   "source": [
    "# Write your code below and press Shift+Enter to execute \n",
    "lm = LinearRegression()\n",
    "x= df[[A.cpu_frequency]]\n",
    "y=df[[A.price]]\n",
    "\n",
    "lm.fit(x,y)\n",
    "\n",
    "yhat= lm.predict(x)"
   ]
  },
  {
   "cell_type": "markdown",
   "id": "9b394daf-a90f-400f-9c60-1a1205501678",
   "metadata": {},
   "source": [
    "<details>\n",
    "    <summary>Click here for Solution</summary>\n",
    "\n",
    "```python\n",
    "lm = LinearRegression()\n",
    "\n",
    "X = df[['CPU_frequency']]\n",
    "Y = df['Price']\n",
    "\n",
    "lm.fit(X,Y)\n",
    "\n",
    "Yhat=lm.predict(X)\n",
    "```\n",
    "\n",
    "</details>\n"
   ]
  },
  {
   "cell_type": "markdown",
   "id": "e2c38867-7f8f-4747-8659-e605600c28d1",
   "metadata": {},
   "source": [
    "Genere el gráfico de distribución para los valores predichos y el de los valores reales.¿Qué tan bien funcionó el modelo?"
   ]
  },
  {
   "cell_type": "code",
   "execution_count": 8,
   "id": "992b7af9-0037-4171-8611-b84c1d22acad",
   "metadata": {},
   "outputs": [
    {
     "data": {
      "image/png": "[encoded data removed]",
      "text/plain": [
       "<Figure size 640x480 with 1 Axes>"
      ]
     },
     "metadata": {},
     "output_type": "display_data"
    }
   ],
   "source": [
    "# Write your code below and press Shift+Enter to execute \n",
    "ax1 = sns.distplot(df['Price'], hist=False, color=\"r\", label=\"Actual Value\")\n",
    "\n",
    "# Create a distribution plot for predicted values\n",
    "sns.distplot(yhat, hist=False, color=\"b\", label=\"Fitted Values\" , ax=ax1)\n",
    "\n",
    "plt.title('Actual vs Fitted Values for Price')\n",
    "plt.xlabel('Price')\n",
    "plt.ylabel('Proportion of laptops')\n",
    "plt.legend(['Actual Value', 'Predicted Value'])\n",
    "plt.show()"
   ]
  },
  {
   "cell_type": "markdown",
   "id": "ed2ca5ef-d1f4-46a4-a775-df765cdee2c6",
   "metadata": {},
   "source": [
    "<details>\n",
    "    <summary>Click here for Solution</summary>\n",
    "\n",
    "```python\n",
    "ax1 = sns.distplot(df['Price'], hist=False, color=\"r\", label=\"Actual Value\")\n",
    "\n",
    "# Create a distribution plot for predicted values\n",
    "sns.distplot(Yhat, hist=False, color=\"b\", label=\"Fitted Values\" , ax=ax1)\n",
    "\n",
    "plt.title('Actual vs Fitted Values for Price')\n",
    "plt.xlabel('Price')\n",
    "plt.ylabel('Proportion of laptops')\n",
    "plt.legend(['Actual Value', 'Predicted Value'])\n",
    "plt.show()\n",
    "```\n",
    "\n",
    "</details>\n"
   ]
  },
  {
   "cell_type": "markdown",
   "id": "3c327d6f-666e-4c32-9469-c8e5c8586217",
   "metadata": {},
   "source": [
    "Evalúe el error cuadrado medio y los valores de puntuación R^2 para el modelo.\n"
   ]
  },
  {
   "cell_type": "code",
   "execution_count": null,
   "id": "f099cfc4-f953-4884-a9d4-fa928fb7dcfe",
   "metadata": {},
   "outputs": [
    {
     "name": "stdout",
     "output_type": "stream",
     "text": [
      "The R-square for Linear Regression is:  0.1344436321024326\n",
      "The mean square error of price and predicted value is:  284583.4405868629\n"
     ]
    }
   ],
   "source": [
    "# Write your code below and press Shift+Enter to execute \n",
    "mse_slr = mean_squared_error(df['Price'], yhat)\n",
    "r2_score_slr = lm.score(x,y)\n",
    "print('The R-square for Linear Regression is: ', r2_score_slr)\n",
    "print('The mean square error of price and predicted value is: ', mse_slr)\n",
    "\n",
    "# El error cuadrado medio del precio y el valor predicho es"
   ]
  },
  {
   "cell_type": "markdown",
   "id": "f1163d63-2200-4045-af5b-92547466d503",
   "metadata": {},
   "source": [
    "<details>\n",
    "    <summary>Click here for Solution</summary>\n",
    "\n",
    "```python\n",
    "mse_slr = mean_squared_error(df['Price'], Yhat)\n",
    "r2_score_slr = lm.score(X, Y)\n",
    "print('The R-square for Linear Regression is: ', r2_score_slr)\n",
    "print('The mean square error of price and predicted value is: ', mse_slr)\n",
    "```\n",
    "\n",
    "</details>\n"
   ]
  },
  {
   "cell_type": "markdown",
   "id": "cdcca972-f0a0-45eb-aefb-0858a08db110",
   "metadata": {},
   "source": [
    "# Task 2 - Multiple Linear Regression\n",
    "The parameters which have a low enough p-value so as to indicate strong relationship with the 'Price' value are 'CPU_frequency', 'RAM_GB', 'Storage_GB_SSD', 'CPU_core', 'OS', 'GPU' and 'Category'. Use all these variables to create a Multiple Linear Regression system. \n"
   ]
  },
  {
   "cell_type": "code",
   "execution_count": 10,
   "id": "b61aecb9-4c2c-4457-87c3-356c64852605",
   "metadata": {},
   "outputs": [],
   "source": [
    "# Write your code below and press Shift+Enter to execute \n",
    "\n",
    "predictors = ['CPU_frequency', 'RAM_GB', 'Storage_GB_SSD', 'CPU_core', 'OS', 'GPU','Category']\n",
    "\n",
    "lm2= LinearRegression()\n",
    "\n",
    "z=df[predictors]\n",
    "lm2.fit(z,y)\n",
    "y_hat= lm2.predict(z)"
   ]
  },
  {
   "cell_type": "markdown",
   "id": "c0422c2c-be0f-454f-a3c0-a0dd86630ea5",
   "metadata": {},
   "source": [
    "<details>\n",
    "    <summary>Click here for Solution</summary>\n",
    "\n",
    "```python\n",
    "lm1 = LinearRegression()\n",
    "Z = df[['CPU_frequency','RAM_GB','Storage_GB_SSD','CPU_core','OS','GPU','Category']]\n",
    "lm1.fit(Z,Y)\n",
    "Y_hat = lm1.predict(Z)\n",
    "```\n",
    "\n",
    "</details>\n"
   ]
  },
  {
   "cell_type": "markdown",
   "id": "dba28629-983f-40e1-bd33-57e99c0e65fa",
   "metadata": {},
   "source": [
    "Plot the Distribution graph of the predicted values as well as the Actual values\n"
   ]
  },
  {
   "cell_type": "code",
   "execution_count": 11,
   "id": "cfc966f5-ca09-42e2-b232-016cdddfb978",
   "metadata": {},
   "outputs": [
    {
     "data": {
      "image/png": "[encoded data removed]",
      "text/plain": [
       "<Figure size 640x480 with 1 Axes>"
      ]
     },
     "metadata": {},
     "output_type": "display_data"
    }
   ],
   "source": [
    "# Write your code below and press Shift+Enter to execute\n",
    "ax1 = sns.distplot(df['Price'], hist=False, color=\"r\", label=\"Actual Value\")\n",
    "\n",
    "# Create a distribution plot for predicted values\n",
    "sns.distplot(y_hat, hist=False, color=\"b\", label=\"Fitted Values\" , ax=ax1)\n",
    "\n",
    "plt.title('Actual vs Fitted Values for Price')\n",
    "plt.xlabel('Price')\n",
    "plt.ylabel('Proportion of laptops')\n",
    "plt.legend(['Actual Value', 'Predicted Value'])\n",
    "plt.show()"
   ]
  },
  {
   "cell_type": "markdown",
   "id": "7859fb4e-b78c-463b-b7cf-2847c618e4a3",
   "metadata": {},
   "source": [
    "<details>\n",
    "    <summary>Click here for Solution</summary>\n",
    "\n",
    "```python\n",
    "ax1 = sns.distplot(df['Price'], hist=False, color=\"r\", label=\"Actual Value\")\n",
    "sns.distplot(Y_hat, hist=False, color=\"b\", label=\"Fitted Values\" , ax=ax1)\n",
    "\n",
    "plt.title('Actual vs Fitted Values for Price')\n",
    "plt.xlabel('Price')\n",
    "plt.ylabel('Proportion of laptops')\n",
    "\n",
    "```\n",
    "\n",
    "</details>\n"
   ]
  },
  {
   "cell_type": "markdown",
   "id": "59d49441-65c9-4de2-9579-6b47237ee629",
   "metadata": {},
   "source": [
    "Encuentre el puntaje R^2 y el valor MSE para este ajuste.¿Es esto mejor o peor que el rendimiento de la regresión lineal única?"
   ]
  },
  {
   "cell_type": "code",
   "execution_count": 12,
   "id": "0f909de2-91bf-4516-89bd-6a439df96402",
   "metadata": {},
   "outputs": [
    {
     "name": "stdout",
     "output_type": "stream",
     "text": [
      "The R-square for Linear Regression is:  0.5082509055187376\n",
      "The mean square error of price and predicted value is:  161680.57263893104\n"
     ]
    }
   ],
   "source": [
    "# Write your code below and press Shift+Enter to execute\n",
    "mse_slr = mean_squared_error(df['Price'], y_hat)\n",
    "r2_score_slr = lm2.score(z,y)\n",
    "print('The R-square for Linear Regression is: ', r2_score_slr)\n",
    "print('The mean square error of price and predicted value is: ', mse_slr)"
   ]
  },
  {
   "cell_type": "markdown",
   "id": "bfdbc400-9b60-4b4f-8ed8-3201660a8739",
   "metadata": {},
   "source": [
    "<details>\n",
    "    <summary>Click here for Solution</summary>\n",
    "\n",
    "```python\n",
    "ax2 = sns.distplot(df['Price'], hist=False, color=\"r\", label=\"Actual Value\")\n",
    "sns.distplot(Y_hat, hist=False, color=\"b\", label=\"Fitted Values\" , ax=ax2)\n",
    "\n",
    "plt.title('Actual vs Fitted Values for Price')\n",
    "plt.xlabel('Price')\n",
    "plt.ylabel('Proportion of laptops')\n",
    "```\n",
    "\n",
    "</details>\n"
   ]
  },
  {
   "cell_type": "markdown",
   "id": "91ecd695-5e6a-4fb1-a851-2e2a95289f81",
   "metadata": {},
   "source": [
    "# Task 3 - Polynomial Regression\n",
    "Use la variable \"CPU_Frequency\" para crear características polinomiales.Pruebe esto para 3 valores diferentes de grados polinomiales.Recuerde que los ajustes polinomiales se realizan usando `numpy.polyfit`."
   ]
  },
  {
   "cell_type": "code",
   "execution_count": 16,
   "id": "97543c0e-353f-4b28-b3d7-93542ffd23ea",
   "metadata": {},
   "outputs": [
    {
     "ename": "AttributeError",
     "evalue": "'numpy.ndarray' object has no attribute 'to_numpy'",
     "output_type": "error",
     "traceback": [
      "\u001b[1;31m---------------------------------------------------------------------------\u001b[0m",
      "\u001b[1;31mAttributeError\u001b[0m                            Traceback (most recent call last)",
      "Cell \u001b[1;32mIn[16], line 3\u001b[0m\n\u001b[0;32m      1\u001b[0m \u001b[38;5;66;03m#  Write your code below and press Shift+Enter to execute\u001b[39;00m\n\u001b[0;32m      2\u001b[0m x \u001b[38;5;241m=\u001b[39mnp\u001b[38;5;241m.\u001b[39marray(df[A\u001b[38;5;241m.\u001b[39mcpu_frequency])\n\u001b[1;32m----> 3\u001b[0m X \u001b[38;5;241m=\u001b[39m \u001b[43mx\u001b[49m\u001b[38;5;241;43m.\u001b[39;49m\u001b[43mto_numpy\u001b[49m()\u001b[38;5;241m.\u001b[39mflatten()\n\u001b[0;32m      5\u001b[0m f1 \u001b[38;5;241m=\u001b[39m np\u001b[38;5;241m.\u001b[39mpolyfit(X, y, \u001b[38;5;241m1\u001b[39m)\n\u001b[0;32m      6\u001b[0m p1 \u001b[38;5;241m=\u001b[39m np\u001b[38;5;241m.\u001b[39mpoly1d(f1)\n",
      "\u001b[1;31mAttributeError\u001b[0m: 'numpy.ndarray' object has no attribute 'to_numpy'"
     ]
    }
   ],
   "source": [
    "#  Write your code below and press Shift+Enter to execute\n",
    "x =np.array(df[A.cpu_frequency])\n",
    "X = x.to_numpy().flatten()\n",
    "\n",
    "f1 = np.polyfit(X, y, 1)\n",
    "p1 = np.poly1d(f1)\n",
    "\n",
    "f3 = np.polyfit(X, y, 3)\n",
    "p3 = np.poly1d(f3)\n",
    "\n",
    "f5 = np.polyfit(X, y, 5)\n",
    "p5 = np.poly1d(f5)"
   ]
  },
  {
   "cell_type": "markdown",
   "id": "9feb832b-8e87-4a15-a9f8-94838960c6b3",
   "metadata": {},
   "source": [
    "<details>\n",
    "    <summary>Click here for Solution</summary>\n",
    "\n",
    "```python\n",
    "X = X.to_numpy().flatten()\n",
    "f1 = np.polyfit(X, Y, 1)\n",
    "p1 = np.poly1d(f1)\n",
    "\n",
    "f3 = np.polyfit(X, Y, 3)\n",
    "p3 = np.poly1d(f3)\n",
    "\n",
    "f5 = np.polyfit(X, Y, 5)\n",
    "p5 = np.poly1d(f5)\n",
    "```\n",
    "\n",
    "</details>\n"
   ]
  },
  {
   "cell_type": "markdown",
   "id": "2eb9bf2f-6f84-4c5b-804d-3f6e5c753fc4",
   "metadata": {},
   "source": [
    "Plot the regression output against the actual data points to note how the data fits in each case. To plot the polynomial response over the actual data points, you have the function shown below.\n"
   ]
  },
  {
   "cell_type": "code",
   "execution_count": 17,
   "id": "997642dc-6738-4678-bcda-5e4ac5a03466",
   "metadata": {},
   "outputs": [],
   "source": [
    "def PlotPolly(model, independent_variable, dependent_variabble, Name):\n",
    "    x_new = np.linspace(independent_variable.min(),independent_variable.max(),100)\n",
    "    y_new = model(x_new)\n",
    "\n",
    "    plt.plot(independent_variable, dependent_variabble, '.', x_new, y_new, '-')\n",
    "    plt.title(f'Polynomial Fit for Price ~ {Name}')\n",
    "    ax = plt.gca()\n",
    "    ax.set_facecolor((0.898, 0.898, 0.898))\n",
    "    fig = plt.gcf()\n",
    "    plt.xlabel(Name)\n",
    "    plt.ylabel('Price of laptops')"
   ]
  },
  {
   "cell_type": "markdown",
   "id": "66b8d079-5d67-4423-a88e-65c5c7572541",
   "metadata": {},
   "source": [
    "Call this function for the 3 models created and get the required graphs.\n"
   ]
  },
  {
   "cell_type": "code",
   "execution_count": null,
   "id": "0bbd4896-f6f2-4981-a535-0d06a002fb31",
   "metadata": {},
   "outputs": [],
   "source": [
    "#  Write your code below and press Shift+Enter to execute\n",
    "# Call for function of degree 1\n"
   ]
  },
  {
   "cell_type": "markdown",
   "id": "bf0a22bf-7e21-4ddd-b07d-d4a46cbe5df9",
   "metadata": {},
   "source": [
    "<details>\n",
    "    <summary>Click here for Solution</summary>\n",
    "    \n",
    "```python\n",
    "PlotPolly(p1, X, Y, 'CPU_frequency')\n",
    "```\n",
    "\n",
    "</details>\n"
   ]
  },
  {
   "cell_type": "code",
   "execution_count": null,
   "id": "2177357b-c2cb-40b6-b342-3f55027f2d8d",
   "metadata": {},
   "outputs": [],
   "source": [
    "#  Write your code below and press Shift+Enter to execute\n",
    "# Call for function of degree 3\n"
   ]
  },
  {
   "cell_type": "markdown",
   "id": "96f70642-edf9-4c18-914c-db63291e681e",
   "metadata": {},
   "source": [
    "<details>\n",
    "    <summary>Click here for Solution</summary>\n",
    "    \n",
    "```python\n",
    "PlotPolly(p3, X, Y, 'CPU_frequency')\n",
    "```\n",
    "\n",
    "</details>\n"
   ]
  },
  {
   "cell_type": "code",
   "execution_count": null,
   "id": "7b9fee73-7199-4d88-95ab-cde1f127438c",
   "metadata": {},
   "outputs": [],
   "source": [
    "#  Write your code below and press Shift+Enter to execute\n",
    "# Call for function of degree 5\n"
   ]
  },
  {
   "cell_type": "markdown",
   "id": "b3b8be37-e446-4eaa-b010-bd1e95d2812e",
   "metadata": {},
   "source": [
    "<details>\n",
    "    <summary>Click here for Solution</summary>\n",
    "    \n",
    "```python\n",
    "PlotPolly(p5, X, Y, 'CPU_frequency')\n",
    "```\n",
    "\n",
    "</details>\n"
   ]
  },
  {
   "cell_type": "markdown",
   "id": "ea3b75b9-b587-4f85-8b05-28cc5cee82b7",
   "metadata": {},
   "source": [
    "Also, calculate the R^2 and MSE values for these fits. For polynomial functions, the function sklearn.metrics.r2_score will be used to calculate R^2 values.\n"
   ]
  },
  {
   "cell_type": "code",
   "execution_count": null,
   "id": "6cdeb7b6-33fb-4265-917c-87ef4a164318",
   "metadata": {},
   "outputs": [],
   "source": [
    "#  Write your code below and press Shift+Enter to execute\n"
   ]
  },
  {
   "cell_type": "markdown",
   "id": "df6ce5c7-921e-49c7-9957-375c18e4d73e",
   "metadata": {},
   "source": [
    "<details>\n",
    "    <summary>Click here for Solution</summary>\n",
    "    \n",
    "```python\n",
    "r_squared_1 = r2_score(Y, p1(X))\n",
    "print('The R-square value for 1st degree polynomial is: ', r_squared_1)\n",
    "print('The MSE value for 1st degree polynomial is: ', mean_squared_error(Y,p1(X)))\n",
    "r_squared_3 = r2_score(Y, p3(X))\n",
    "print('The R-square value for 3rd degree polynomial is: ', r_squared_3)\n",
    "print('The MSE value for 3rd degree polynomial is: ', mean_squared_error(Y,p3(X)))\n",
    "r_squared_5 = r2_score(Y, p5(X))\n",
    "print('The R-square value for 5th degree polynomial is: ', r_squared_5)\n",
    "print('The MSE value for 5th degree polynomial is: ', mean_squared_error(Y,p5(X)))\n",
    "```\n",
    "\n",
    "</details>\n"
   ]
  },
  {
   "cell_type": "markdown",
   "id": "eae52d1b-dd60-403d-bc3a-97065685470c",
   "metadata": {},
   "source": [
    "# Task 4 - Pipeline\n",
    "Create a pipeline that performs parameter scaling, Polynomial Feature generation and Linear regression. Use the set of multiple features as before to create this pipeline. \n"
   ]
  },
  {
   "cell_type": "code",
   "execution_count": null,
   "id": "13ce53a4-1b46-4758-a21c-6cce337c747a",
   "metadata": {},
   "outputs": [],
   "source": [
    "#  Write your code below and press Shift+Enter to execute\n"
   ]
  },
  {
   "cell_type": "markdown",
   "id": "3bcfe1d0-d0d0-419d-9a5e-a69a7fb185bc",
   "metadata": {},
   "source": [
    "<details>\n",
    "    <summary>Click here for Solution</summary>\n",
    "    \n",
    "```python\n",
    "Input=[('scale',StandardScaler()), ('polynomial', PolynomialFeatures(include_bias=False)), ('model',LinearRegression())]\n",
    "pipe=Pipeline(Input)\n",
    "Z = Z.astype(float)\n",
    "pipe.fit(Z,Y)\n",
    "ypipe=pipe.predict(Z)\n",
    "```\n",
    "\n",
    "</details>\n"
   ]
  },
  {
   "cell_type": "markdown",
   "id": "2b48ce5b-dccf-40f8-b1a1-3d4aeadcc66f",
   "metadata": {},
   "source": [
    "Evaluate the MSE and R^2 values for the this predicted output.\n"
   ]
  },
  {
   "cell_type": "code",
   "execution_count": null,
   "id": "51206ce9-25be-43b0-ba4c-8fc61fc6518f",
   "metadata": {},
   "outputs": [],
   "source": [
    "#  Write your code below and press Shift+Enter to execute\n"
   ]
  },
  {
   "cell_type": "markdown",
   "id": "1c454afe-2579-49a2-bc5e-933393e98dc3",
   "metadata": {},
   "source": [
    "<details>\n",
    "    <summary>Click here for Solution</summary>\n",
    "    \n",
    "```python\n",
    "print('MSE for multi-variable polynomial pipeline is: ', mean_squared_error(Y, ypipe))\n",
    "print('R^2 for multi-variable polynomial pipeline is: ', r2_score(Y, ypipe))\n",
    "\n",
    "```\n",
    "\n",
    "</details>\n"
   ]
  },
  {
   "cell_type": "markdown",
   "id": "6da6db2a-cd5f-4898-a758-5cfcaeb12330",
   "metadata": {},
   "source": [
    "You should now have seen that the values of R^2 increase as we go from Single Linear Regression to Multiple Linear Regression. Further, if we go for multiple linear regression extended with polynomial features, we get an even better R^2 value.\n"
   ]
  },
  {
   "cell_type": "markdown",
   "id": "317220dc-c6da-45ca-afe2-8f9f313f4130",
   "metadata": {},
   "source": [
    "# Congratulations! You have completed the lab\n"
   ]
  },
  {
   "cell_type": "markdown",
   "id": "caa3d70e-67fe-475f-84ab-2494e2a8b49d",
   "metadata": {},
   "source": [
    "## Authors\n"
   ]
  },
  {
   "cell_type": "markdown",
   "id": "e34e0ee5-b40e-4f95-b8a2-35bdb266e8fe",
   "metadata": {},
   "source": [
    "[Abhishek Gagneja](https://www.coursera.org/instructor/~129186572)\n",
    "\n",
    "[Vicky Kuo](https://author.skills.network/instructors/vicky_kuo)\n"
   ]
  },
  {
   "cell_type": "markdown",
   "id": "78b46c76-e5ce-4fdb-8d24-8070f0cbdc77",
   "metadata": {},
   "source": [
    "### Copyright ©IBM Corporation. All rights reserved.\n"
   ]
  },
  {
   "cell_type": "markdown",
   "id": "3e2f1548-aa56-40dd-8350-1536da61d8c6",
   "metadata": {},
   "source": [
    "<!--## Change Log\n"
   ]
  },
  {
   "cell_type": "markdown",
   "id": "94d42aca-856b-44fb-9510-e434dc311b98",
   "metadata": {},
   "source": [
    "<!--|Date (YYYY-MM-DD)|Version|Changed By|Change Description|\n",
    "|-|-|-|-|\n",
    "|2023-09-16|0.1|Abhishek Gagneja|Initial Version Created|\n",
    "|2023-09-19|0.2|Vicky Kuo|Reviewed and Revised|--!>\n"
   ]
  }
 ],
 "metadata": {
  "kernelspec": {
   "display_name": "env",
   "language": "python",
   "name": "python3"
  },
  "language_info": {
   "codemirror_mode": {
    "name": "ipython",
    "version": 3
   },
   "file_extension": ".py",
   "mimetype": "text/x-python",
   "name": "python",
   "nbconvert_exporter": "python",
   "pygments_lexer": "ipython3",
   "version": "3.12.4"
  },
  "prev_pub_hash": "a0e025808e6c72257e89a73885823bfb3955da485fe5535264ed19c28ea3d857"
 },
 "nbformat": 4,
 "nbformat_minor": 4
}
